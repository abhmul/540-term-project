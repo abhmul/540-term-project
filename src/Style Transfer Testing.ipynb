{
 "cells": [
  {
   "cell_type": "code",
   "execution_count": 15,
   "metadata": {},
   "outputs": [
    {
     "name": "stdout",
     "output_type": "stream",
     "text": [
      "The autoreload extension is already loaded. To reload it, use:\n  %reload_ext autoreload\n"
     ]
    }
   ],
   "source": [
    "import logging\n",
    "\n",
    "import torch\n",
    "import torch.nn as nn\n",
    "from torch.autograd import Variable\n",
    "import torch.optim as optim\n",
    "\n",
    "import numpy as np\n",
    "from skimage.transform import resize as resize_image\n",
    "\n",
    "from PIL import Image\n",
    "import matplotlib.pyplot as plt\n",
    "\n",
    "import torchvision.transforms as transforms\n",
    "import torchvision.models as models\n",
    "\n",
    "import pyjet.backend as J\n",
    "\n",
    "import copy\n",
    "\n",
    "import data_utils as dsb\n",
    "\n",
    "logging.basicConfig(format='%(asctime)s : %(levelname)s : %(message)s', level=logging.INFO)\n",
    "\n",
    "# This is a bit of magic to make matplotlib figures appear inline in the notebook\n",
    "# rather than in a new window.\n",
    "%matplotlib inline\n",
    "plt.rcParams['figure.figsize'] = (10.0, 8.0) # set default size of plots\n",
    "\n",
    "# Some more magic so that the notebook will reload external python modules;\n",
    "# see http://stackoverflow.com/questions/1907993/autoreload-of-modules-in-ipython\n",
    "\n",
    "%load_ext autoreload\n",
    "%autoreload 2\n",
    "\n",
    "# Set up some globals\n",
    "SEED = 42\n",
    "np.random.seed(SEED)\n",
    "\n",
    "\n",
    "\n",
    "NUM_CHANNELS = 3\n",
    "\n",
    "PATH_TO_TRAIN = '../input/train/'\n",
    "PATH_TO_TEST = '../input/test/'\n",
    "\n",
    "NUM_TRAIN = 670\n",
    "NUM_TEST = 65"
   ]
  },
  {
   "cell_type": "code",
   "execution_count": 4,
   "metadata": {},
   "outputs": [],
   "source": [
    "# Load the clusters\n",
    "train_cluster_ids = np.load(\"../clusters/train_clusters.npz\")\n",
    "test_cluster_ids = np.load(\"../clusters/test_clusters.npz\")\n",
    "\n",
    "\n",
    "in_set = np.vectorize(lambda a, s: a in s)"
   ]
  },
  {
   "cell_type": "code",
   "execution_count": 5,
   "metadata": {},
   "outputs": [
    {
     "name": "stderr",
     "output_type": "stream",
     "text": [
      "2018-04-05 00:27:27,040 : INFO : Loading 65 test images with mode rgb\n"
     ]
    },
    {
     "name": "stderr",
     "output_type": "stream",
     "text": [
      "\r  0%|          | 0/65 [00:00<?, ?it/s]"
     ]
    },
    {
     "name": "stderr",
     "output_type": "stream",
     "text": [
      "\r 18%|█▊        | 12/65 [00:00<00:00, 119.43it/s]"
     ]
    },
    {
     "name": "stderr",
     "output_type": "stream",
     "text": [
      "\r 43%|████▎     | 28/65 [00:00<00:00, 137.63it/s]"
     ]
    },
    {
     "name": "stderr",
     "output_type": "stream",
     "text": [
      "\r 74%|███████▍  | 48/65 [00:00<00:00, 151.84it/s]"
     ]
    },
    {
     "name": "stderr",
     "output_type": "stream",
     "text": [
      "\r 92%|█████████▏| 60/65 [00:00<00:00, 142.72it/s]"
     ]
    },
    {
     "name": "stderr",
     "output_type": "stream",
     "text": [
      "\r100%|██████████| 65/65 [00:00<00:00, 145.05it/s]"
     ]
    },
    {
     "name": "stderr",
     "output_type": "stream",
     "text": [
      "\n2018-04-05 00:27:27,491 : INFO : Loading 670 train images with mode rgb\n"
     ]
    },
    {
     "name": "stderr",
     "output_type": "stream",
     "text": [
      "\r  0%|          | 0/670 [00:00<?, ?it/s]"
     ]
    },
    {
     "name": "stderr",
     "output_type": "stream",
     "text": [
      "\r  1%|▏         | 9/670 [00:00<00:08, 77.43it/s]"
     ]
    },
    {
     "name": "stderr",
     "output_type": "stream",
     "text": [
      "\r  2%|▏         | 13/670 [00:00<00:15, 41.57it/s]"
     ]
    },
    {
     "name": "stderr",
     "output_type": "stream",
     "text": [
      "\r  2%|▏         | 16/670 [00:00<00:31, 21.03it/s]"
     ]
    },
    {
     "name": "stderr",
     "output_type": "stream",
     "text": [
      "\r  3%|▎         | 18/670 [00:01<00:40, 16.23it/s]"
     ]
    },
    {
     "name": "stderr",
     "output_type": "stream",
     "text": [
      "\r  3%|▎         | 21/670 [00:01<00:41, 15.75it/s]"
     ]
    },
    {
     "name": "stderr",
     "output_type": "stream",
     "text": [
      "\r  4%|▍         | 26/670 [00:01<00:38, 16.78it/s]"
     ]
    },
    {
     "name": "stderr",
     "output_type": "stream",
     "text": [
      "\r  6%|▌         | 37/670 [00:01<00:28, 22.29it/s]"
     ]
    },
    {
     "name": "stderr",
     "output_type": "stream",
     "text": [
      "\r  6%|▋         | 42/670 [00:02<00:30, 20.33it/s]"
     ]
    },
    {
     "name": "stderr",
     "output_type": "stream",
     "text": [
      "\r  7%|▋         | 50/670 [00:02<00:26, 22.99it/s]"
     ]
    },
    {
     "name": "stderr",
     "output_type": "stream",
     "text": [
      "\r  9%|▊         | 57/670 [00:02<00:24, 24.84it/s]"
     ]
    },
    {
     "name": "stderr",
     "output_type": "stream",
     "text": [
      "\r  9%|▉         | 62/670 [00:02<00:26, 22.98it/s]"
     ]
    },
    {
     "name": "stderr",
     "output_type": "stream",
     "text": [
      "\r 10%|█         | 69/670 [00:02<00:24, 24.60it/s]"
     ]
    },
    {
     "name": "stderr",
     "output_type": "stream",
     "text": [
      "\r 11%|█         | 74/670 [00:03<00:24, 24.36it/s]"
     ]
    },
    {
     "name": "stderr",
     "output_type": "stream",
     "text": [
      "\r 12%|█▏        | 78/670 [00:03<00:24, 24.37it/s]"
     ]
    },
    {
     "name": "stderr",
     "output_type": "stream",
     "text": [
      "\r 13%|█▎        | 86/670 [00:03<00:23, 24.51it/s]"
     ]
    },
    {
     "name": "stderr",
     "output_type": "stream",
     "text": [
      "\r 14%|█▍        | 94/670 [00:03<00:22, 25.92it/s]"
     ]
    },
    {
     "name": "stderr",
     "output_type": "stream",
     "text": [
      "\r 15%|█▌        | 101/670 [00:03<00:21, 27.01it/s]"
     ]
    },
    {
     "name": "stderr",
     "output_type": "stream",
     "text": [
      "\r 16%|█▌        | 106/670 [00:03<00:20, 26.92it/s]"
     ]
    },
    {
     "name": "stderr",
     "output_type": "stream",
     "text": [
      "\r 17%|█▋        | 111/670 [00:04<00:21, 26.57it/s]"
     ]
    },
    {
     "name": "stderr",
     "output_type": "stream",
     "text": [
      "\r 17%|█▋        | 117/670 [00:04<00:20, 26.79it/s]"
     ]
    },
    {
     "name": "stderr",
     "output_type": "stream",
     "text": [
      "\r 18%|█▊        | 123/670 [00:04<00:20, 26.99it/s]"
     ]
    },
    {
     "name": "stderr",
     "output_type": "stream",
     "text": [
      "\r 19%|█▉        | 127/670 [00:04<00:20, 26.74it/s]"
     ]
    },
    {
     "name": "stderr",
     "output_type": "stream",
     "text": [
      "\r 19%|█▉        | 130/670 [00:04<00:20, 26.62it/s]"
     ]
    },
    {
     "name": "stderr",
     "output_type": "stream",
     "text": [
      "\r 20%|██        | 136/670 [00:05<00:20, 26.47it/s]"
     ]
    },
    {
     "name": "stderr",
     "output_type": "stream",
     "text": [
      "\r 21%|██        | 139/670 [00:05<00:21, 24.15it/s]"
     ]
    },
    {
     "name": "stderr",
     "output_type": "stream",
     "text": [
      "\r 22%|██▏       | 147/670 [00:05<00:20, 25.00it/s]"
     ]
    },
    {
     "name": "stderr",
     "output_type": "stream",
     "text": [
      "\r 23%|██▎       | 153/670 [00:05<00:20, 25.57it/s]"
     ]
    },
    {
     "name": "stderr",
     "output_type": "stream",
     "text": [
      "\r 24%|██▍       | 160/670 [00:06<00:19, 26.30it/s]"
     ]
    },
    {
     "name": "stderr",
     "output_type": "stream",
     "text": [
      "\r 25%|██▍       | 165/670 [00:06<00:19, 26.51it/s]"
     ]
    },
    {
     "name": "stderr",
     "output_type": "stream",
     "text": [
      "\r 26%|██▌       | 174/670 [00:06<00:19, 25.83it/s]"
     ]
    },
    {
     "name": "stderr",
     "output_type": "stream",
     "text": [
      "\r 27%|██▋       | 181/670 [00:06<00:18, 26.44it/s]"
     ]
    },
    {
     "name": "stderr",
     "output_type": "stream",
     "text": [
      "\r 28%|██▊       | 188/670 [00:06<00:17, 27.06it/s]"
     ]
    },
    {
     "name": "stderr",
     "output_type": "stream",
     "text": [
      "\r 29%|██▉       | 194/670 [00:07<00:17, 27.17it/s]"
     ]
    },
    {
     "name": "stderr",
     "output_type": "stream",
     "text": [
      "\r 30%|██▉       | 199/670 [00:07<00:17, 27.08it/s]"
     ]
    },
    {
     "name": "stderr",
     "output_type": "stream",
     "text": [
      "\r 30%|███       | 203/670 [00:07<00:17, 26.70it/s]"
     ]
    },
    {
     "name": "stderr",
     "output_type": "stream",
     "text": [
      "\r 31%|███▏      | 210/670 [00:07<00:16, 27.25it/s]"
     ]
    },
    {
     "name": "stderr",
     "output_type": "stream",
     "text": [
      "\r 32%|███▏      | 217/670 [00:07<00:16, 27.17it/s]"
     ]
    },
    {
     "name": "stderr",
     "output_type": "stream",
     "text": [
      "\r 33%|███▎      | 223/670 [00:08<00:16, 26.94it/s]"
     ]
    },
    {
     "name": "stderr",
     "output_type": "stream",
     "text": [
      "\r 34%|███▍      | 231/670 [00:08<00:16, 26.74it/s]"
     ]
    },
    {
     "name": "stderr",
     "output_type": "stream",
     "text": [
      "\r 35%|███▍      | 234/670 [00:08<00:16, 26.34it/s]"
     ]
    },
    {
     "name": "stderr",
     "output_type": "stream",
     "text": [
      "\r 36%|███▌      | 238/670 [00:09<00:16, 26.03it/s]"
     ]
    },
    {
     "name": "stderr",
     "output_type": "stream",
     "text": [
      "\r 36%|███▌      | 241/670 [00:09<00:16, 25.83it/s]"
     ]
    },
    {
     "name": "stderr",
     "output_type": "stream",
     "text": [
      "\r 37%|███▋      | 249/670 [00:09<00:16, 26.11it/s]"
     ]
    },
    {
     "name": "stderr",
     "output_type": "stream",
     "text": [
      "\r 38%|███▊      | 254/670 [00:09<00:15, 26.34it/s]"
     ]
    },
    {
     "name": "stderr",
     "output_type": "stream",
     "text": [
      "\r 39%|███▉      | 261/670 [00:09<00:15, 26.78it/s]"
     ]
    },
    {
     "name": "stderr",
     "output_type": "stream",
     "text": [
      "\r 40%|███▉      | 266/670 [00:09<00:15, 26.76it/s]"
     ]
    },
    {
     "name": "stderr",
     "output_type": "stream",
     "text": [
      "\r 40%|████      | 270/670 [00:10<00:14, 26.89it/s]"
     ]
    },
    {
     "name": "stderr",
     "output_type": "stream",
     "text": [
      "\r 41%|████      | 274/670 [00:10<00:14, 26.98it/s]"
     ]
    },
    {
     "name": "stderr",
     "output_type": "stream",
     "text": [
      "\r 41%|████▏     | 278/670 [00:10<00:15, 25.73it/s]"
     ]
    },
    {
     "name": "stderr",
     "output_type": "stream",
     "text": [
      "\r 42%|████▏     | 281/670 [00:11<00:15, 25.48it/s]"
     ]
    },
    {
     "name": "stderr",
     "output_type": "stream",
     "text": [
      "\r 43%|████▎     | 288/670 [00:11<00:15, 25.36it/s]"
     ]
    },
    {
     "name": "stderr",
     "output_type": "stream",
     "text": [
      "\r 44%|████▍     | 297/670 [00:11<00:14, 25.86it/s]"
     ]
    },
    {
     "name": "stderr",
     "output_type": "stream",
     "text": [
      "\r 45%|████▍     | 301/670 [00:11<00:14, 25.57it/s]"
     ]
    },
    {
     "name": "stderr",
     "output_type": "stream",
     "text": [
      "\r 46%|████▌     | 305/670 [00:12<00:14, 25.40it/s]"
     ]
    },
    {
     "name": "stderr",
     "output_type": "stream",
     "text": [
      "\r 47%|████▋     | 312/670 [00:12<00:14, 25.53it/s]"
     ]
    },
    {
     "name": "stderr",
     "output_type": "stream",
     "text": [
      "\r 47%|████▋     | 315/670 [00:12<00:14, 25.17it/s]"
     ]
    },
    {
     "name": "stderr",
     "output_type": "stream",
     "text": [
      "\r 48%|████▊     | 324/670 [00:12<00:13, 25.65it/s]"
     ]
    },
    {
     "name": "stderr",
     "output_type": "stream",
     "text": [
      "\r 49%|████▉     | 330/670 [00:12<00:13, 25.90it/s]"
     ]
    },
    {
     "name": "stderr",
     "output_type": "stream",
     "text": [
      "\r 50%|█████     | 337/670 [00:12<00:12, 26.23it/s]"
     ]
    },
    {
     "name": "stderr",
     "output_type": "stream",
     "text": [
      "\r 51%|█████     | 343/670 [00:13<00:12, 26.28it/s]"
     ]
    },
    {
     "name": "stderr",
     "output_type": "stream",
     "text": [
      "\r 52%|█████▏    | 348/670 [00:13<00:12, 26.19it/s]"
     ]
    },
    {
     "name": "stderr",
     "output_type": "stream",
     "text": [
      "\r 53%|█████▎    | 354/670 [00:13<00:11, 26.35it/s]"
     ]
    },
    {
     "name": "stderr",
     "output_type": "stream",
     "text": [
      "\r 54%|█████▎    | 359/670 [00:13<00:11, 26.22it/s]"
     ]
    },
    {
     "name": "stderr",
     "output_type": "stream",
     "text": [
      "\r 54%|█████▍    | 363/670 [00:13<00:11, 26.13it/s]"
     ]
    },
    {
     "name": "stderr",
     "output_type": "stream",
     "text": [
      "\r 55%|█████▍    | 366/670 [00:14<00:11, 26.00it/s]"
     ]
    },
    {
     "name": "stderr",
     "output_type": "stream",
     "text": [
      "\r 55%|█████▌    | 369/670 [00:14<00:11, 25.85it/s]"
     ]
    },
    {
     "name": "stderr",
     "output_type": "stream",
     "text": [
      "\r 56%|█████▋    | 377/670 [00:14<00:11, 26.22it/s]"
     ]
    },
    {
     "name": "stderr",
     "output_type": "stream",
     "text": [
      "\r 57%|█████▋    | 381/670 [00:14<00:11, 25.91it/s]"
     ]
    },
    {
     "name": "stderr",
     "output_type": "stream",
     "text": [
      "\r 58%|█████▊    | 387/670 [00:14<00:10, 26.13it/s]"
     ]
    },
    {
     "name": "stderr",
     "output_type": "stream",
     "text": [
      "\r 59%|█████▉    | 395/670 [00:15<00:10, 25.74it/s]"
     ]
    },
    {
     "name": "stderr",
     "output_type": "stream",
     "text": [
      "\r 60%|█████▉    | 399/670 [00:15<00:10, 25.04it/s]"
     ]
    },
    {
     "name": "stderr",
     "output_type": "stream",
     "text": [
      "\r 60%|██████    | 404/670 [00:16<00:10, 25.14it/s]"
     ]
    },
    {
     "name": "stderr",
     "output_type": "stream",
     "text": [
      "\r 61%|██████    | 409/670 [00:16<00:10, 25.05it/s]"
     ]
    },
    {
     "name": "stderr",
     "output_type": "stream",
     "text": [
      "\r 62%|██████▏   | 415/670 [00:16<00:10, 25.21it/s]"
     ]
    },
    {
     "name": "stderr",
     "output_type": "stream",
     "text": [
      "\r 63%|██████▎   | 419/670 [00:16<00:10, 24.87it/s]"
     ]
    },
    {
     "name": "stderr",
     "output_type": "stream",
     "text": [
      "\r 63%|██████▎   | 422/670 [00:17<00:10, 24.71it/s]"
     ]
    },
    {
     "name": "stderr",
     "output_type": "stream",
     "text": [
      "\r 64%|██████▍   | 432/670 [00:17<00:09, 25.14it/s]"
     ]
    },
    {
     "name": "stderr",
     "output_type": "stream",
     "text": [
      "\r 65%|██████▌   | 437/670 [00:17<00:09, 25.27it/s]"
     ]
    },
    {
     "name": "stderr",
     "output_type": "stream",
     "text": [
      "\r 66%|██████▋   | 445/670 [00:17<00:08, 25.35it/s]"
     ]
    },
    {
     "name": "stderr",
     "output_type": "stream",
     "text": [
      "\r 67%|██████▋   | 449/670 [00:17<00:08, 24.97it/s]"
     ]
    },
    {
     "name": "stderr",
     "output_type": "stream",
     "text": [
      "\r 68%|██████▊   | 454/670 [00:18<00:08, 25.08it/s]"
     ]
    },
    {
     "name": "stderr",
     "output_type": "stream",
     "text": [
      "\r 69%|██████▉   | 461/670 [00:18<00:08, 25.33it/s]"
     ]
    },
    {
     "name": "stderr",
     "output_type": "stream",
     "text": [
      "\r 70%|██████▉   | 466/670 [00:18<00:08, 25.31it/s]"
     ]
    },
    {
     "name": "stderr",
     "output_type": "stream",
     "text": [
      "\r 71%|███████   | 474/670 [00:18<00:07, 25.60it/s]"
     ]
    },
    {
     "name": "stderr",
     "output_type": "stream",
     "text": [
      "\r 72%|███████▏  | 480/670 [00:18<00:07, 25.42it/s]"
     ]
    },
    {
     "name": "stderr",
     "output_type": "stream",
     "text": [
      "\r 72%|███████▏  | 485/670 [00:19<00:07, 24.87it/s]"
     ]
    },
    {
     "name": "stderr",
     "output_type": "stream",
     "text": [
      "\r 73%|███████▎  | 489/670 [00:19<00:07, 24.66it/s]"
     ]
    },
    {
     "name": "stderr",
     "output_type": "stream",
     "text": [
      "\r 73%|███████▎  | 492/670 [00:20<00:07, 23.98it/s]"
     ]
    },
    {
     "name": "stderr",
     "output_type": "stream",
     "text": [
      "\r 74%|███████▍  | 496/670 [00:20<00:07, 23.91it/s]"
     ]
    },
    {
     "name": "stderr",
     "output_type": "stream",
     "text": [
      "\r 76%|███████▌  | 506/670 [00:20<00:06, 24.27it/s]"
     ]
    },
    {
     "name": "stderr",
     "output_type": "stream",
     "text": [
      "\r 76%|███████▋  | 511/670 [00:20<00:06, 24.38it/s]"
     ]
    },
    {
     "name": "stderr",
     "output_type": "stream",
     "text": [
      "\r 77%|███████▋  | 516/670 [00:21<00:06, 24.48it/s]"
     ]
    },
    {
     "name": "stderr",
     "output_type": "stream",
     "text": [
      "\r 78%|███████▊  | 521/670 [00:21<00:06, 24.24it/s]"
     ]
    },
    {
     "name": "stderr",
     "output_type": "stream",
     "text": [
      "\r 79%|███████▊  | 527/670 [00:21<00:05, 24.39it/s]"
     ]
    },
    {
     "name": "stderr",
     "output_type": "stream",
     "text": [
      "\r 79%|███████▉  | 531/670 [00:21<00:05, 24.42it/s]"
     ]
    },
    {
     "name": "stderr",
     "output_type": "stream",
     "text": [
      "\r 80%|████████  | 537/670 [00:21<00:05, 24.57it/s]"
     ]
    },
    {
     "name": "stderr",
     "output_type": "stream",
     "text": [
      "\r 81%|████████  | 543/670 [00:21<00:05, 24.71it/s]"
     ]
    },
    {
     "name": "stderr",
     "output_type": "stream",
     "text": [
      "\r 82%|████████▏ | 548/670 [00:22<00:04, 24.82it/s]"
     ]
    },
    {
     "name": "stderr",
     "output_type": "stream",
     "text": [
      "\r 83%|████████▎ | 554/670 [00:22<00:04, 24.97it/s]"
     ]
    },
    {
     "name": "stderr",
     "output_type": "stream",
     "text": [
      "\r 84%|████████▎ | 561/670 [00:22<00:04, 24.99it/s]"
     ]
    },
    {
     "name": "stderr",
     "output_type": "stream",
     "text": [
      "\r 84%|████████▍ | 566/670 [00:23<00:04, 24.05it/s]"
     ]
    },
    {
     "name": "stderr",
     "output_type": "stream",
     "text": [
      "\r 85%|████████▌ | 570/670 [00:24<00:04, 23.75it/s]"
     ]
    },
    {
     "name": "stderr",
     "output_type": "stream",
     "text": [
      "\r 86%|████████▌ | 573/670 [00:24<00:04, 23.70it/s]"
     ]
    },
    {
     "name": "stderr",
     "output_type": "stream",
     "text": [
      "\r 87%|████████▋ | 581/670 [00:24<00:03, 23.92it/s]"
     ]
    },
    {
     "name": "stderr",
     "output_type": "stream",
     "text": [
      "\r 87%|████████▋ | 585/670 [00:24<00:03, 23.88it/s]"
     ]
    },
    {
     "name": "stderr",
     "output_type": "stream",
     "text": [
      "\r 89%|████████▊ | 594/670 [00:24<00:03, 24.14it/s]"
     ]
    },
    {
     "name": "stderr",
     "output_type": "stream",
     "text": [
      "\r 90%|████████▉ | 602/670 [00:24<00:02, 24.29it/s]"
     ]
    },
    {
     "name": "stderr",
     "output_type": "stream",
     "text": [
      "\r 91%|█████████ | 607/670 [00:25<00:02, 24.20it/s]"
     ]
    },
    {
     "name": "stderr",
     "output_type": "stream",
     "text": [
      "\r 92%|█████████▏| 614/670 [00:25<00:02, 24.38it/s]"
     ]
    },
    {
     "name": "stderr",
     "output_type": "stream",
     "text": [
      "\r 92%|█████████▏| 619/670 [00:25<00:02, 24.44it/s]"
     ]
    },
    {
     "name": "stderr",
     "output_type": "stream",
     "text": [
      "\r 93%|█████████▎| 624/670 [00:25<00:01, 24.52it/s]"
     ]
    },
    {
     "name": "stderr",
     "output_type": "stream",
     "text": [
      "\r 94%|█████████▍| 632/670 [00:25<00:01, 24.73it/s]"
     ]
    },
    {
     "name": "stderr",
     "output_type": "stream",
     "text": [
      "\r 95%|█████████▌| 639/670 [00:25<00:01, 24.87it/s]"
     ]
    },
    {
     "name": "stderr",
     "output_type": "stream",
     "text": [
      "\r 97%|█████████▋| 647/670 [00:25<00:00, 25.08it/s]"
     ]
    },
    {
     "name": "stderr",
     "output_type": "stream",
     "text": [
      "\r 97%|█████████▋| 653/670 [00:26<00:00, 24.71it/s]"
     ]
    },
    {
     "name": "stderr",
     "output_type": "stream",
     "text": [
      "\r 98%|█████████▊| 658/670 [00:26<00:00, 24.58it/s]"
     ]
    },
    {
     "name": "stderr",
     "output_type": "stream",
     "text": [
      "\r 99%|█████████▉| 662/670 [00:26<00:00, 24.52it/s]"
     ]
    },
    {
     "name": "stderr",
     "output_type": "stream",
     "text": [
      "\r100%|█████████▉| 667/670 [00:27<00:00, 24.49it/s]"
     ]
    },
    {
     "name": "stderr",
     "output_type": "stream",
     "text": [
      "\r100%|██████████| 670/670 [00:27<00:00, 24.55it/s]"
     ]
    },
    {
     "name": "stdout",
     "output_type": "stream",
     "text": [
      "Number of training samples: 670\nX-train shape: (670,)\nY-train shape: (670,)\nX-test shape: (65,)\n[0 0 0 0 0 0 2 0 0 0 0 0 0 0 0 0 0 0 2 0 0 2 0 2 0 0 0 0 0 0 0 1 0 1 0 0 0\n 0 0 0 0 0 0 0 0 0 1 0 0 1 0 0 0 1 0 0 0 0 0 2 0 0 0 0 0 0 1 0 1 0 2 0 0 0\n 0 0 1 0 1 0 0 0 0 0 0 0 0 0 1 0 0 0 0 1 0 0 2 0 0 0 0 0 0 2 0 0 0 0 0 0 0\n 0 0 0 0 0 0 0 0 0 0 1 0 0 0 1 1 0 0 0 0 0 0 0 0 0 0 0 0 0 0 0 0 0 0 0 0 0\n 0 0 0 2 2 0 1 0 0 0 0 0 0 0 0 0 0 0 0 0 0 0 0 0 0 0 2 0 0 0 0 0 2 0 0 0 2\n 0 0 1 0 0 2 0 0 0 0 0 0 0 0 0 0 0 0 0 0 0 1 1 0 0 0 0 0 0 1 0 0 0 1 0 0 0\n 0 1 0 0 0 0 0 0 0 0 0 1 1 0 0 0 0 0 0 0 0 0 1 0 0 1 0 0 0 0 1 0 0 0 1 0 0\n 0 0 0 0 2 1 0 0 0 1 0 0 0 0 0 0 0 0 0 0 0 0 0 1 0 0 0 0 0 1 0 0 0 0 1 0 0\n 0 0 0 0 0 0 0 0 0 0 0 0 0 0 0 0 0 0 0 0 0 0 0 1 0 0 2 0 0 0 0 0 2 1 0 0 0\n 0 2 0 0 0 0 0 0 0 0 0 2 0 0 0 0 0 1 0 2 0 0 0 0 0 0 0 0 0 0 0 0 0 0 0 0 0\n 0 0 0 0 0 0 0 0 0 0 1 0 0 0 1 0 0 0 1 0 0 0 0 0 0 0 0 0 0 0 0 0 0 0 0 0 1\n 0 0 0 0 0 0 0 0 0 0 0 0 2 0 2 0 0 1 0 1 1 0 0 0 0 0 1 0 2 2 0 0 0 0 0 1 0\n 0 0 0 2 0 0 0 0 1 1 1 0 0 0 0 0 2 0 0 1 2 0 0 0 0 0 1 0 0 0 0 0 0 0 0 0 0\n 2 0 0 0 0 1 0 0 0 0 0 0 2 0 0 1 0 0 0 0 0 0 0 0 1 0 1 1 0 0 0 0 0 0 1 0 0\n 0 0 0 0 0 0 0 0 0 0 0 0 0 1 0 1 0 0 0 2 0 0 0 0 0 0 0 0 1 0 2 2 0 2 0 0 0\n 2 0 0 0 0 0 0 0 0 0 0 0 0 0 0 0 0 0 0 0 0 0 0 0 0 0 0 0 2 0 1 0 0 2 0 0 0\n 0 0 0 0 0 0 0 0 0 0 0 0 1 0 0 0 0 0 2 0 1 1 0 0 1 0 0 0 0 0 1 0 0 0 0 0 0\n 0 0 0 1 1 0 1 0 1 0 0 0 1 0 0 0 0 0 0 1 2 0 0 0 0 0 0 0 0 0 0 0 0 0 0 0 0\n 0 0 0 0]\n"
     ]
    },
    {
     "name": "stderr",
     "output_type": "stream",
     "text": [
      "\n"
     ]
    }
   ],
   "source": [
    "# Load the training data\n",
    "test_ids, X_test, sizes_test = dsb.load_test_data(path_to_test=PATH_TO_TEST, img_size=None,\n",
    "                                                  num_channels=NUM_CHANNELS, mode='rgb')\n",
    "train_ids, X_train, Y_train = dsb.load_train_data(path_to_train=PATH_TO_TRAIN, img_size=None,\n",
    "                                                  num_channels=NUM_CHANNELS, mode='rgb')\n",
    "print(\"Number of training samples: %s\" % len(train_ids))\n",
    "print(\"X-train shape: {}\".format(X_train.shape))\n",
    "print(\"Y-train shape: {}\".format(Y_train.shape))\n",
    "print(\"X-test shape: {}\".format(X_test.shape))\n",
    "\n",
    "# Get indexes from clusters\n",
    "train_clusters = np.zeros(NUM_TRAIN, dtype=int)\n",
    "test_clusters = np.zeros(NUM_TEST, dtype=int)\n",
    "train_clusters[in_set(train_ids, {a for a in train_cluster_ids[\"cluster_0\"]})]= 0\n",
    "train_clusters[in_set(train_ids, {a for a in train_cluster_ids[\"cluster_1\"]})]= 1\n",
    "train_clusters[in_set(train_ids, {a for a in train_cluster_ids[\"cluster_2\"]})]= 2\n",
    "\n",
    "test_clusters[in_set(test_ids, {a for a in test_cluster_ids[\"cluster_0\"]})]= 0\n",
    "test_clusters[in_set(test_ids, {a for a in test_cluster_ids[\"cluster_1\"]})]= 1\n",
    "test_clusters[in_set(test_ids, {a for a in test_cluster_ids[\"cluster_2\"]})]= 2\n",
    "\n",
    "print(train_clusters)"
   ]
  },
  {
   "cell_type": "code",
   "execution_count": 4,
   "metadata": {},
   "outputs": [],
   "source": []
  },
  {
   "cell_type": "markdown",
   "metadata": {},
   "source": [
    "Get some image loading setup"
   ]
  },
  {
   "cell_type": "code",
   "execution_count": 35,
   "metadata": {},
   "outputs": [],
   "source": [
    "# Get the style images\n",
    "style_images = np.concatenate([X_train[train_clusters == 0], X_test[test_clusters == 0]], axis=0)\n",
    "content_images = np.concatenate([X_train[train_clusters != 0], X_test[test_clusters != 0]], axis=0)\n",
    "\n",
    "NUM_TRAIN_STYLE = np.count_nonzero(train_clusters == 0)\n",
    "NUM_TRAIN_CONTENT = np.count_nonzero(train_clusters != 0)\n",
    "NUM_TEST_STYLE = np.count_nonzero(test_clusters != 0)\n",
    "NUM_TEST_CONTENT = np.count_nonzero(test_clusters != 0)\n"
   ]
  },
  {
   "cell_type": "code",
   "execution_count": 8,
   "metadata": {},
   "outputs": [
    {
     "data": {
      "image/png": "[encoded data removed]",
      "text/plain": [
       "<Figure size 432x288 with 1 Axes>"
      ]
     },
     "metadata": {},
     "output_type": "display_data"
    }
   ],
   "source": [
    "import matplotlib.animation as animation\n",
    "\n",
    "i = 0\n",
    "\n",
    "\n",
    "fig = plt.figure()\n",
    "img_1 = style_images[i]\n",
    "im = plt.imshow(img_1, animated=True)\n",
    "\n",
    "def updatefig(*args):\n",
    "    global i\n",
    "    i = i + 1 % len(style_images)\n",
    "    im.set_data(style_images[i])\n",
    "    return im,\n",
    "\n",
    "ani = animation.FuncAnimation(fig, updatefig, interval=50, blit=True)\n",
    "\n",
    "j = 0\n",
    "im = plt.imshow(content_images[j], animated=True)\n",
    "\n",
    "def updatefig(*args):\n",
    "    global j\n",
    "    j = j + 1 % len(content_images)\n",
    "    im.set_data(content_images[j])\n",
    "    return im,\n",
    "\n",
    "ani = animation.FuncAnimation(fig, updatefig, interval=50, blit=True)\n",
    "# This does not work"
   ]
  },
  {
   "cell_type": "code",
   "execution_count": 41,
   "metadata": {},
   "outputs": [],
   "source": [
    "# Content loss only has 1 target since there's only one content image\n",
    "class ContentLoss(nn.Module):\n",
    "\n",
    "    def __init__(self, target, weight):\n",
    "        super(ContentLoss, self).__init__()\n",
    "        # we 'detach' the target content from the tree used\n",
    "        self.target = target.detach() * weight\n",
    "        # to dynamically compute the gradient: this is a stated value,\n",
    "        # not a variable. Otherwise the forward method of the criterion\n",
    "        # will throw an error.\n",
    "        self.weight = weight\n",
    "        self.criterion = nn.MSELoss()\n",
    "\n",
    "    def forward(self, input):\n",
    "        self.loss = self.criterion((input * self.weight).expand_as(self.target), self.target)\n",
    "        self.output = input\n",
    "        return self.output\n",
    "\n",
    "    def backward(self, retain_graph=True):\n",
    "        self.loss.backward(retain_graph=retain_graph)\n",
    "        return self.loss\n",
    "\n",
    "    \n",
    "class GramMatrix(nn.Module):\n",
    "\n",
    "    def forward(self, input):\n",
    "        a, b, c, d = input.size()  # a=batch size(=B)\n",
    "        # b=number of feature maps\n",
    "        # (c,d)=dimensions of a f. map (N=c*d)\n",
    "\n",
    "        features = input.view(a, b, c * d)  # resise F_XL into \\hat F_XL\n",
    "\n",
    "        G = torch.bmm(features, features.transpose(1, 2))  # compute the gram product\n",
    "\n",
    "        # we 'normalize' the values of the gram matrix\n",
    "        # by dividing by the number of element in each feature maps.\n",
    "        return G.div(b * c * d)\n",
    "\n",
    "class StyleLoss(nn.Module):\n",
    "\n",
    "    def __init__(self, weight):\n",
    "        super(StyleLoss, self).__init__()\n",
    "        self.G_input = None\n",
    "        self.G_targets = None\n",
    "        self.weight = weight\n",
    "        self.gram = GramMatrix()\n",
    "        self.criterion = nn.MSELoss()\n",
    "\n",
    "    def forward(self, input, targets):\n",
    "        self.output = input.clone()\n",
    "        # Take gram of input and target\n",
    "        self.G_input = self.gram(input)\n",
    "        self.G_target = self.gram(targets).detach()\n",
    "        # Apply the weight\n",
    "        self.G_input.mul_(self.weight)\n",
    "        self.G_target.mul_(self.weight)\n",
    "        # First average target, or average criterion? Let's try average criterion\n",
    "        # Since self.G_input has batch size of 1, broadcasting should happen\n",
    "        self.loss = self.criterion(self.G_input.expand_as(self.G_target), self.G_target)\n",
    "        return self.output\n",
    "\n",
    "    def backward(self, retain_graph=True):\n",
    "        self.loss.backward(retain_graph=retain_graph)\n",
    "        return self.loss"
   ]
  },
  {
   "cell_type": "code",
   "execution_count": 8,
   "metadata": {},
   "outputs": [],
   "source": [
    "cnn = models.vgg19(pretrained=True).features\n",
    "\n",
    "# move it to the GPU if possible:\n",
    "if J.use_cuda:\n",
    "    cnn = cnn.cuda()"
   ]
  },
  {
   "cell_type": "code",
   "execution_count": 9,
   "metadata": {},
   "outputs": [
    {
     "name": "stdout",
     "output_type": "stream",
     "text": [
      "Sequential(\n  (0): Conv2d (3, 64, kernel_size=(3, 3), stride=(1, 1), padding=(1, 1))\n  (1): ReLU(inplace)\n  (2): Conv2d (64, 64, kernel_size=(3, 3), stride=(1, 1), padding=(1, 1))\n  (3): ReLU(inplace)\n  (4): MaxPool2d(kernel_size=(2, 2), stride=(2, 2), dilation=(1, 1))\n  (5): Conv2d (64, 128, kernel_size=(3, 3), stride=(1, 1), padding=(1, 1))\n  (6): ReLU(inplace)\n  (7): Conv2d (128, 128, kernel_size=(3, 3), stride=(1, 1), padding=(1, 1))\n  (8): ReLU(inplace)\n  (9): MaxPool2d(kernel_size=(2, 2), stride=(2, 2), dilation=(1, 1))\n  (10): Conv2d (128, 256, kernel_size=(3, 3), stride=(1, 1), padding=(1, 1))\n  (11): ReLU(inplace)\n  (12): Conv2d (256, 256, kernel_size=(3, 3), stride=(1, 1), padding=(1, 1))\n  (13): ReLU(inplace)\n  (14): Conv2d (256, 256, kernel_size=(3, 3), stride=(1, 1), padding=(1, 1))\n  (15): ReLU(inplace)\n  (16): Conv2d (256, 256, kernel_size=(3, 3), stride=(1, 1), padding=(1, 1))\n  (17): ReLU(inplace)\n  (18): MaxPool2d(kernel_size=(2, 2), stride=(2, 2), dilation=(1, 1))\n  (19): Conv2d (256, 512, kernel_size=(3, 3), stride=(1, 1), padding=(1, 1))\n  (20): ReLU(inplace)\n  (21): Conv2d (512, 512, kernel_size=(3, 3), stride=(1, 1), padding=(1, 1))\n  (22): ReLU(inplace)\n  (23): Conv2d (512, 512, kernel_size=(3, 3), stride=(1, 1), padding=(1, 1))\n  (24): ReLU(inplace)\n  (25): Conv2d (512, 512, kernel_size=(3, 3), stride=(1, 1), padding=(1, 1))\n  (26): ReLU(inplace)\n  (27): MaxPool2d(kernel_size=(2, 2), stride=(2, 2), dilation=(1, 1))\n  (28): Conv2d (512, 512, kernel_size=(3, 3), stride=(1, 1), padding=(1, 1))\n  (29): ReLU(inplace)\n  (30): Conv2d (512, 512, kernel_size=(3, 3), stride=(1, 1), padding=(1, 1))\n  (31): ReLU(inplace)\n  (32): Conv2d (512, 512, kernel_size=(3, 3), stride=(1, 1), padding=(1, 1))\n  (33): ReLU(inplace)\n  (34): Conv2d (512, 512, kernel_size=(3, 3), stride=(1, 1), padding=(1, 1))\n  (35): ReLU(inplace)\n  (36): MaxPool2d(kernel_size=(2, 2), stride=(2, 2), dilation=(1, 1))\n)\n"
     ]
    }
   ],
   "source": [
    "print(repr(cnn))"
   ]
  },
  {
   "cell_type": "code",
   "execution_count": null,
   "metadata": {},
   "outputs": [],
   "source": []
  },
  {
   "cell_type": "code",
   "execution_count": 58,
   "metadata": {},
   "outputs": [],
   "source": [
    "def get_input_param_optimizer(input_tensor):\n",
    "    # this line to show that input is a parameter that requires a gradient\n",
    "    input_param = nn.Parameter(input_tensor.data)\n",
    "    optimizer = optim.LBFGS([input_param])\n",
    "    return input_param, optimizer\n",
    "\n",
    "class StyleTransferModel(nn.Module):\n",
    "    \n",
    "    def __init__(self, content_layers, style_layers, content_weight=1, style_weight=1000):\n",
    "        super(StyleTransferModel, self).__init__()\n",
    "        self.content_layers = content_layers\n",
    "        self.style_layers = style_layers\n",
    "        assert all(\"conv\" in l for l in content_layers)\n",
    "        assert all(\"conv\" in l for l in style_layers)\n",
    "        self.content_weight = content_weight\n",
    "        self.style_weight = style_weight\n",
    "        self.content_losses = [None] * len(content_layers)\n",
    "        self.style_losses = [None] * len(style_layers)\n",
    "        self.model = None\n",
    "    \n",
    "    def compile(self, content_img, base_model):\n",
    "        \n",
    "        assert content_img.shape[3] == 3\n",
    "        assert content_img.ndim == 4\n",
    "        content_img = content_img.transpose(0, 3, 1, 2)\n",
    "        \n",
    "        self.model = nn.ModuleList()  # the new network\n",
    "        content_count = 0\n",
    "        style_count = 0\n",
    "        i = 1\n",
    "        content_hidden = Variable(J.from_numpy(content_img.astype(np.float32) / 255.))\n",
    "        for layer in base_model:\n",
    "            # Get the intermediate content values\n",
    "            content_hidden = layer(content_hidden)\n",
    "            # Add the layer to the model and create name\n",
    "            if isinstance(layer, nn.Conv2d):\n",
    "                name = \"conv_\" + str(i)\n",
    "                self.model.add_module(name=name, module=layer)\n",
    "                \n",
    "                # Check if its a content layer\n",
    "                if name in self.content_layers:\n",
    "                    print(\"Adding layer\", name, \"to content losses\")\n",
    "                    content_loss = ContentLoss(content_hidden, self.content_weight)\n",
    "                    self.model.add_module(name=\"content_loss_\" + str(i), module=content_loss)\n",
    "                    self.content_losses[content_count] = content_loss\n",
    "                    content_count += 1\n",
    "                # Check if its a style layer\n",
    "                if name in self.style_layers:\n",
    "                    print(\"Adding layer\", name, \"to content losses\")\n",
    "                    style_loss = StyleLoss(self.style_weight)\n",
    "                    self.model.add_module(name=\"style_loss_\" + str(i), module=style_loss)\n",
    "                    self.style_losses[style_count] = style_loss\n",
    "                    style_count += 1\n",
    "                # Check if we're done\n",
    "                if content_count == len(self.content_losses) and style_count == len(self.style_losses):\n",
    "                    break\n",
    "            \n",
    "            if isinstance(layer, nn.ReLU):\n",
    "                name = \"relu_\" + str(i)\n",
    "                self.model.add_module(name=name, module=layer)\n",
    "                i += 1\n",
    "                \n",
    "            if isinstance(layer, nn.MaxPool2d):\n",
    "                name = \"max_pool2d_\" + str(i)\n",
    "                self.model.add_module(name=name, module=layer)\n",
    "                \n",
    "        # Turn the losses into module lists\n",
    "        self.content_losses = nn.ModuleList(self.content_losses)\n",
    "        self.style_losses = nn.ModuleList(self.style_losses)\n",
    "        \n",
    "        print(\"Content_Losses\")\n",
    "        print(repr(self.content_losses))\n",
    "        \n",
    "        print(\"Style Losses\")\n",
    "        print(repr(self.style_losses))\n",
    "        \n",
    "        print(\"Model:\")\n",
    "        print(repr(self.model))\n",
    "    \n",
    "    def forward(self, x, targets):\n",
    "        for name, layer in self.model._modules.items():\n",
    "            # The only case we need to worry about it the style loss\n",
    "            if \"style_loss\" in name:\n",
    "                x = layer(x, targets)\n",
    "            elif \"content_loss\" in name:\n",
    "                x = layer(x)\n",
    "            # All other layers, run everything through\n",
    "            else:\n",
    "                x = layer(x)\n",
    "                targets = layer(targets)\n",
    "        \n",
    "    def backward(self):\n",
    "        content_loss_value = 0\n",
    "        style_loss_value = 0\n",
    "        for loss in self.content_losses:\n",
    "            content_loss_value += loss.backward()\n",
    "        for loss in self.style_losses:\n",
    "            style_loss_value += loss.backward()\n",
    "        return content_loss_value, style_loss_value\n",
    "    \n",
    "    def run_model(self, content_img, style_imgs, num_steps=300, batch_size=32):\n",
    "        assert self.model is not None, \"Compile the model first\"\n",
    "        print(\"Compiling the input image...\")\n",
    "        \n",
    "        style_imgs = np.stack([resize_image(img, content_img.shape[1:3], mode='constant', preserve_range=True).astype(np.int8) \n",
    "                               for img in style_imgs])\n",
    "        \n",
    "        assert content_img.shape[3] == 3\n",
    "        assert content_img.ndim == 4\n",
    "        content_img = content_img.transpose(0, 3, 1, 2)\n",
    "        assert style_imgs.shape[3] == 3\n",
    "        assert style_imgs.ndim == 4\n",
    "        style_imgs = style_imgs.transpose(0, 3, 1, 2)\n",
    "        \n",
    "        assert style_imgs.shape[1:] == content_img.shape[1:] == (3, 256, 320), \\\n",
    "            \"content images: {}, style_images: {}\".format(content_img.shape, style_imgs.shape)\n",
    "        \n",
    "        input_tensor = Variable(J.from_numpy(content_img.astype(np.float32) / 255.))\n",
    "        input_param, optimizer = get_input_param_optimizer(input_tensor)\n",
    "        \n",
    "        inds = np.random.randint(len(style_imgs), size=batch_size)\n",
    "        style_tensors = Variable(J.from_numpy(style_imgs[inds].astype(np.float32) / 255.))\n",
    "        # style_tensors = Variable(J.from_numpy(style_imgs.astype(np.float32) / 255.))\n",
    "        \n",
    "        print(\"Optimizing...\")\n",
    "        run = [0]\n",
    "        while run[0] <= num_steps:\n",
    "            \n",
    "            # Get the next set of style images\n",
    "            # inds = np.random.randint(len(style_imgs), size=batch_size)\n",
    "            # style_tensors = Variable(J.from_numpy(style_imgs[inds].astype(np.float32) / 255.))\n",
    "            \n",
    "            def closure():\n",
    "                # Correct the values of the updated input image\n",
    "                input_param.data.clamp_(0, 1)\n",
    "\n",
    "                optimizer.zero_grad()\n",
    "                self(input_param, style_tensors)\n",
    "                style_score = 0\n",
    "                content_score = 0\n",
    "\n",
    "                # Run the backward pass\n",
    "                content_score, style_score = self.backward()\n",
    "\n",
    "                run[0] += 1\n",
    "                if run[0] % 50 == 0:\n",
    "                    print(\"run {}:\".format(run))\n",
    "                    print('Style Loss : {:4f} Content Loss: {:4f}'.format(\n",
    "                        style_score.data[0], content_score.data[0]))\n",
    "                    print()\n",
    "\n",
    "                return style_score + content_score\n",
    "            \n",
    "            optimizer.step(closure)\n",
    "\n",
    "        # a last correction...\n",
    "        input_param.data.clamp_(0, 1)\n",
    "\n",
    "        return (J.to_numpy(input_param.data) * 255).astype(np.int8)\n"
   ]
  },
  {
   "cell_type": "code",
   "execution_count": 59,
   "metadata": {
    "collapsed": true
   },
   "outputs": [
    {
     "name": "stdout",
     "output_type": "stream",
     "text": [
      "Adding layer conv_1 to content losses\nAdding layer conv_2 to content losses\nAdding layer conv_3 to content losses\nAdding layer conv_4 to content losses\nAdding layer conv_4 to content losses\nAdding layer conv_5 to content losses\nContent_Losses\nModuleList(\n  (0): ContentLoss(\n    (criterion): MSELoss(\n    )\n  )\n)\nStyle Losses\nModuleList(\n  (0): StyleLoss(\n    (gram): GramMatrix(\n    )\n    (criterion): MSELoss(\n    )\n  )\n  (1): StyleLoss(\n    (gram): GramMatrix(\n    )\n    (criterion): MSELoss(\n    )\n  )\n  (2): StyleLoss(\n    (gram): GramMatrix(\n    )\n    (criterion): MSELoss(\n    )\n  )\n  (3): StyleLoss(\n    (gram): GramMatrix(\n    )\n    (criterion): MSELoss(\n    )\n  )\n  (4): StyleLoss(\n    (gram): GramMatrix(\n    )\n    (criterion): MSELoss(\n    )\n  )\n)\nModel:\nModuleList(\n  (conv_1): Conv2d (3, 64, kernel_size=(3, 3), stride=(1, 1), padding=(1, 1))\n  (style_loss_1): StyleLoss(\n    (gram): GramMatrix(\n    )\n    (criterion): MSELoss(\n    )\n  )\n  (relu_1): ReLU(inplace)\n  (conv_2): Conv2d (64, 64, kernel_size=(3, 3), stride=(1, 1), padding=(1, 1))\n  (style_loss_2): StyleLoss(\n    (gram): GramMatrix(\n    )\n    (criterion): MSELoss(\n    )\n  )\n  (relu_2): ReLU(inplace)\n  (max_pool2d_3): MaxPool2d(kernel_size=(2, 2), stride=(2, 2), dilation=(1, 1))\n  (conv_3): Conv2d (64, 128, kernel_size=(3, 3), stride=(1, 1), padding=(1, 1))\n  (style_loss_3): StyleLoss(\n    (gram): GramMatrix(\n    )\n    (criterion): MSELoss(\n    )\n  )\n  (relu_3): ReLU(inplace)\n  (conv_4): Conv2d (128, 128, kernel_size=(3, 3), stride=(1, 1), padding=(1, 1))\n  (content_loss_4): ContentLoss(\n    (criterion): MSELoss(\n    )\n  )\n  (style_loss_4): StyleLoss(\n    (gram): GramMatrix(\n    )\n    (criterion): MSELoss(\n    )\n  )\n  (relu_4): ReLU(inplace)\n  (max_pool2d_5): MaxPool2d(kernel_size=(2, 2), stride=(2, 2), dilation=(1, 1))\n  (conv_5): Conv2d (128, 256, kernel_size=(3, 3), stride=(1, 1), padding=(1, 1))\n  (style_loss_5): StyleLoss(\n    (gram): GramMatrix(\n    )\n    (criterion): MSELoss(\n    )\n  )\n)\nCompiling the input image...\n"
     ]
    },
    {
     "name": "stdout",
     "output_type": "stream",
     "text": [
      "Optimizing...\n"
     ]
    },
    {
     "ename": "RuntimeError",
     "evalue": "cuda runtime error (2) : out of memory at /pytorch/torch/lib/THC/generic/THCStorage.cu:58",
     "traceback": [
      "\u001b[0;31m---------------------------------------------------------------------------\u001b[0m",
      "\u001b[0;31mRuntimeError\u001b[0m                              Traceback (most recent call last)",
      "\u001b[0;32m<ipython-input-59-258c8675f35f>\u001b[0m in \u001b[0;36m<module>\u001b[0;34m()\u001b[0m\n\u001b[1;32m      8\u001b[0m \u001b[0mtransfer_model\u001b[0m \u001b[0;34m=\u001b[0m \u001b[0mStyleTransferModel\u001b[0m\u001b[0;34m(\u001b[0m\u001b[0mCONTENT_LAYERS\u001b[0m\u001b[0;34m,\u001b[0m \u001b[0mSTYLE_LAYERS\u001b[0m\u001b[0;34m,\u001b[0m \u001b[0mCONTENT_WEIGHT\u001b[0m\u001b[0;34m,\u001b[0m \u001b[0mSTYLE_WEIGHT\u001b[0m\u001b[0;34m)\u001b[0m\u001b[0;34m\u001b[0m\u001b[0m\n\u001b[1;32m      9\u001b[0m \u001b[0mtransfer_model\u001b[0m\u001b[0;34m.\u001b[0m\u001b[0mcompile\u001b[0m\u001b[0;34m(\u001b[0m\u001b[0mcontent_images\u001b[0m\u001b[0;34m[\u001b[0m\u001b[0;36m0\u001b[0m\u001b[0;34m]\u001b[0m\u001b[0;34m[\u001b[0m\u001b[0mnp\u001b[0m\u001b[0;34m.\u001b[0m\u001b[0mnewaxis\u001b[0m\u001b[0;34m]\u001b[0m\u001b[0;34m,\u001b[0m \u001b[0mcnn\u001b[0m\u001b[0;34m)\u001b[0m\u001b[0;34m\u001b[0m\u001b[0m\n\u001b[0;32m---> 10\u001b[0;31m \u001b[0mnew_image\u001b[0m \u001b[0;34m=\u001b[0m \u001b[0mtransfer_model\u001b[0m\u001b[0;34m.\u001b[0m\u001b[0mrun_model\u001b[0m\u001b[0;34m(\u001b[0m\u001b[0mcontent_images\u001b[0m\u001b[0;34m[\u001b[0m\u001b[0;36m0\u001b[0m\u001b[0;34m]\u001b[0m\u001b[0;34m[\u001b[0m\u001b[0mnp\u001b[0m\u001b[0;34m.\u001b[0m\u001b[0mnewaxis\u001b[0m\u001b[0;34m]\u001b[0m\u001b[0;34m,\u001b[0m \u001b[0mstyle_images\u001b[0m\u001b[0;34m)\u001b[0m\u001b[0;34m\u001b[0m\u001b[0m\n\u001b[0m\u001b[1;32m     11\u001b[0m \u001b[0;34m\u001b[0m\u001b[0m\n\u001b[1;32m     12\u001b[0m \u001b[0mplt\u001b[0m\u001b[0;34m.\u001b[0m\u001b[0mimshow\u001b[0m\u001b[0;34m(\u001b[0m\u001b[0mnew_image\u001b[0m\u001b[0;34m)\u001b[0m\u001b[0;34m\u001b[0m\u001b[0m\n",
      "\u001b[0;32m<ipython-input-58-5fb78bcc3ed8>\u001b[0m in \u001b[0;36mrun_model\u001b[0;34m(self, content_img, style_imgs, num_steps, batch_size)\u001b[0m\n\u001b[1;32m    151\u001b[0m                 \u001b[0;32mreturn\u001b[0m \u001b[0mstyle_score\u001b[0m \u001b[0;34m+\u001b[0m \u001b[0mcontent_score\u001b[0m\u001b[0;34m\u001b[0m\u001b[0m\n\u001b[1;32m    152\u001b[0m \u001b[0;34m\u001b[0m\u001b[0m\n\u001b[0;32m--> 153\u001b[0;31m             \u001b[0moptimizer\u001b[0m\u001b[0;34m.\u001b[0m\u001b[0mstep\u001b[0m\u001b[0;34m(\u001b[0m\u001b[0mclosure\u001b[0m\u001b[0;34m)\u001b[0m\u001b[0;34m\u001b[0m\u001b[0m\n\u001b[0m\u001b[1;32m    154\u001b[0m \u001b[0;34m\u001b[0m\u001b[0m\n\u001b[1;32m    155\u001b[0m         \u001b[0;31m# a last correction...\u001b[0m\u001b[0;34m\u001b[0m\u001b[0;34m\u001b[0m\u001b[0m\n",
      "\u001b[0;32m/usr/local/lib/python3.5/dist-packages/torch/optim/lbfgs.py\u001b[0m in \u001b[0;36mstep\u001b[0;34m(self, closure)\u001b[0m\n\u001b[1;32m     99\u001b[0m \u001b[0;34m\u001b[0m\u001b[0m\n\u001b[1;32m    100\u001b[0m         \u001b[0;31m# evaluate initial f(x) and df/dx\u001b[0m\u001b[0;34m\u001b[0m\u001b[0;34m\u001b[0m\u001b[0m\n\u001b[0;32m--> 101\u001b[0;31m         \u001b[0morig_loss\u001b[0m \u001b[0;34m=\u001b[0m \u001b[0mclosure\u001b[0m\u001b[0;34m(\u001b[0m\u001b[0;34m)\u001b[0m\u001b[0;34m\u001b[0m\u001b[0m\n\u001b[0m\u001b[1;32m    102\u001b[0m         \u001b[0mloss\u001b[0m \u001b[0;34m=\u001b[0m \u001b[0morig_loss\u001b[0m\u001b[0;34m.\u001b[0m\u001b[0mdata\u001b[0m\u001b[0;34m[\u001b[0m\u001b[0;36m0\u001b[0m\u001b[0;34m]\u001b[0m\u001b[0;34m\u001b[0m\u001b[0m\n\u001b[1;32m    103\u001b[0m         \u001b[0mcurrent_evals\u001b[0m \u001b[0;34m=\u001b[0m \u001b[0;36m1\u001b[0m\u001b[0;34m\u001b[0m\u001b[0m\n",
      "\u001b[0;32m<ipython-input-58-5fb78bcc3ed8>\u001b[0m in \u001b[0;36mclosure\u001b[0;34m()\u001b[0m\n\u001b[1;32m    135\u001b[0m \u001b[0;34m\u001b[0m\u001b[0m\n\u001b[1;32m    136\u001b[0m                 \u001b[0moptimizer\u001b[0m\u001b[0;34m.\u001b[0m\u001b[0mzero_grad\u001b[0m\u001b[0;34m(\u001b[0m\u001b[0;34m)\u001b[0m\u001b[0;34m\u001b[0m\u001b[0m\n\u001b[0;32m--> 137\u001b[0;31m                 \u001b[0mself\u001b[0m\u001b[0;34m(\u001b[0m\u001b[0minput_param\u001b[0m\u001b[0;34m,\u001b[0m \u001b[0mstyle_tensors\u001b[0m\u001b[0;34m)\u001b[0m\u001b[0;34m\u001b[0m\u001b[0m\n\u001b[0m\u001b[1;32m    138\u001b[0m                 \u001b[0mstyle_score\u001b[0m \u001b[0;34m=\u001b[0m \u001b[0;36m0\u001b[0m\u001b[0;34m\u001b[0m\u001b[0m\n\u001b[1;32m    139\u001b[0m                 \u001b[0mcontent_score\u001b[0m \u001b[0;34m=\u001b[0m \u001b[0;36m0\u001b[0m\u001b[0;34m\u001b[0m\u001b[0m\n",
      "\u001b[0;32m/usr/local/lib/python3.5/dist-packages/torch/nn/modules/module.py\u001b[0m in \u001b[0;36m__call__\u001b[0;34m(self, *input, **kwargs)\u001b[0m\n\u001b[1;32m    323\u001b[0m         \u001b[0;32mfor\u001b[0m \u001b[0mhook\u001b[0m \u001b[0;32min\u001b[0m \u001b[0mself\u001b[0m\u001b[0;34m.\u001b[0m\u001b[0m_forward_pre_hooks\u001b[0m\u001b[0;34m.\u001b[0m\u001b[0mvalues\u001b[0m\u001b[0;34m(\u001b[0m\u001b[0;34m)\u001b[0m\u001b[0;34m:\u001b[0m\u001b[0;34m\u001b[0m\u001b[0m\n\u001b[1;32m    324\u001b[0m             \u001b[0mhook\u001b[0m\u001b[0;34m(\u001b[0m\u001b[0mself\u001b[0m\u001b[0;34m,\u001b[0m \u001b[0minput\u001b[0m\u001b[0;34m)\u001b[0m\u001b[0;34m\u001b[0m\u001b[0m\n\u001b[0;32m--> 325\u001b[0;31m         \u001b[0mresult\u001b[0m \u001b[0;34m=\u001b[0m \u001b[0mself\u001b[0m\u001b[0;34m.\u001b[0m\u001b[0mforward\u001b[0m\u001b[0;34m(\u001b[0m\u001b[0;34m*\u001b[0m\u001b[0minput\u001b[0m\u001b[0;34m,\u001b[0m \u001b[0;34m**\u001b[0m\u001b[0mkwargs\u001b[0m\u001b[0;34m)\u001b[0m\u001b[0;34m\u001b[0m\u001b[0m\n\u001b[0m\u001b[1;32m    326\u001b[0m         \u001b[0;32mfor\u001b[0m \u001b[0mhook\u001b[0m \u001b[0;32min\u001b[0m \u001b[0mself\u001b[0m\u001b[0;34m.\u001b[0m\u001b[0m_forward_hooks\u001b[0m\u001b[0;34m.\u001b[0m\u001b[0mvalues\u001b[0m\u001b[0;34m(\u001b[0m\u001b[0;34m)\u001b[0m\u001b[0;34m:\u001b[0m\u001b[0;34m\u001b[0m\u001b[0m\n\u001b[1;32m    327\u001b[0m             \u001b[0mhook_result\u001b[0m \u001b[0;34m=\u001b[0m \u001b[0mhook\u001b[0m\u001b[0;34m(\u001b[0m\u001b[0mself\u001b[0m\u001b[0;34m,\u001b[0m \u001b[0minput\u001b[0m\u001b[0;34m,\u001b[0m \u001b[0mresult\u001b[0m\u001b[0;34m)\u001b[0m\u001b[0;34m\u001b[0m\u001b[0m\n",
      "\u001b[0;32m<ipython-input-58-5fb78bcc3ed8>\u001b[0m in \u001b[0;36mforward\u001b[0;34m(self, x, targets)\u001b[0m\n\u001b[1;32m     88\u001b[0m             \u001b[0;32melse\u001b[0m\u001b[0;34m:\u001b[0m\u001b[0;34m\u001b[0m\u001b[0m\n\u001b[1;32m     89\u001b[0m                 \u001b[0mx\u001b[0m \u001b[0;34m=\u001b[0m \u001b[0mlayer\u001b[0m\u001b[0;34m(\u001b[0m\u001b[0mx\u001b[0m\u001b[0;34m)\u001b[0m\u001b[0;34m\u001b[0m\u001b[0m\n\u001b[0;32m---> 90\u001b[0;31m                 \u001b[0mtargets\u001b[0m \u001b[0;34m=\u001b[0m \u001b[0mlayer\u001b[0m\u001b[0;34m(\u001b[0m\u001b[0mtargets\u001b[0m\u001b[0;34m)\u001b[0m\u001b[0;34m\u001b[0m\u001b[0m\n\u001b[0m\u001b[1;32m     91\u001b[0m \u001b[0;34m\u001b[0m\u001b[0m\n\u001b[1;32m     92\u001b[0m     \u001b[0;32mdef\u001b[0m \u001b[0mbackward\u001b[0m\u001b[0;34m(\u001b[0m\u001b[0mself\u001b[0m\u001b[0;34m)\u001b[0m\u001b[0;34m:\u001b[0m\u001b[0;34m\u001b[0m\u001b[0m\n",
      "\u001b[0;32m/usr/local/lib/python3.5/dist-packages/torch/nn/modules/module.py\u001b[0m in \u001b[0;36m__call__\u001b[0;34m(self, *input, **kwargs)\u001b[0m\n\u001b[1;32m    323\u001b[0m         \u001b[0;32mfor\u001b[0m \u001b[0mhook\u001b[0m \u001b[0;32min\u001b[0m \u001b[0mself\u001b[0m\u001b[0;34m.\u001b[0m\u001b[0m_forward_pre_hooks\u001b[0m\u001b[0;34m.\u001b[0m\u001b[0mvalues\u001b[0m\u001b[0;34m(\u001b[0m\u001b[0;34m)\u001b[0m\u001b[0;34m:\u001b[0m\u001b[0;34m\u001b[0m\u001b[0m\n\u001b[1;32m    324\u001b[0m             \u001b[0mhook\u001b[0m\u001b[0;34m(\u001b[0m\u001b[0mself\u001b[0m\u001b[0;34m,\u001b[0m \u001b[0minput\u001b[0m\u001b[0;34m)\u001b[0m\u001b[0;34m\u001b[0m\u001b[0m\n\u001b[0;32m--> 325\u001b[0;31m         \u001b[0mresult\u001b[0m \u001b[0;34m=\u001b[0m \u001b[0mself\u001b[0m\u001b[0;34m.\u001b[0m\u001b[0mforward\u001b[0m\u001b[0;34m(\u001b[0m\u001b[0;34m*\u001b[0m\u001b[0minput\u001b[0m\u001b[0;34m,\u001b[0m \u001b[0;34m**\u001b[0m\u001b[0mkwargs\u001b[0m\u001b[0;34m)\u001b[0m\u001b[0;34m\u001b[0m\u001b[0m\n\u001b[0m\u001b[1;32m    326\u001b[0m         \u001b[0;32mfor\u001b[0m \u001b[0mhook\u001b[0m \u001b[0;32min\u001b[0m \u001b[0mself\u001b[0m\u001b[0;34m.\u001b[0m\u001b[0m_forward_hooks\u001b[0m\u001b[0;34m.\u001b[0m\u001b[0mvalues\u001b[0m\u001b[0;34m(\u001b[0m\u001b[0;34m)\u001b[0m\u001b[0;34m:\u001b[0m\u001b[0;34m\u001b[0m\u001b[0m\n\u001b[1;32m    327\u001b[0m             \u001b[0mhook_result\u001b[0m \u001b[0;34m=\u001b[0m \u001b[0mhook\u001b[0m\u001b[0;34m(\u001b[0m\u001b[0mself\u001b[0m\u001b[0;34m,\u001b[0m \u001b[0minput\u001b[0m\u001b[0;34m,\u001b[0m \u001b[0mresult\u001b[0m\u001b[0;34m)\u001b[0m\u001b[0;34m\u001b[0m\u001b[0m\n",
      "\u001b[0;32m/usr/local/lib/python3.5/dist-packages/torch/nn/modules/conv.py\u001b[0m in \u001b[0;36mforward\u001b[0;34m(self, input)\u001b[0m\n\u001b[1;32m    275\u001b[0m     \u001b[0;32mdef\u001b[0m \u001b[0mforward\u001b[0m\u001b[0;34m(\u001b[0m\u001b[0mself\u001b[0m\u001b[0;34m,\u001b[0m \u001b[0minput\u001b[0m\u001b[0;34m)\u001b[0m\u001b[0;34m:\u001b[0m\u001b[0;34m\u001b[0m\u001b[0m\n\u001b[1;32m    276\u001b[0m         return F.conv2d(input, self.weight, self.bias, self.stride,\n\u001b[0;32m--> 277\u001b[0;31m                         self.padding, self.dilation, self.groups)\n\u001b[0m\u001b[1;32m    278\u001b[0m \u001b[0;34m\u001b[0m\u001b[0m\n\u001b[1;32m    279\u001b[0m \u001b[0;34m\u001b[0m\u001b[0m\n",
      "\u001b[0;32m/usr/local/lib/python3.5/dist-packages/torch/nn/functional.py\u001b[0m in \u001b[0;36mconv2d\u001b[0;34m(input, weight, bias, stride, padding, dilation, groups)\u001b[0m\n\u001b[1;32m     88\u001b[0m                 \u001b[0m_pair\u001b[0m\u001b[0;34m(\u001b[0m\u001b[0;36m0\u001b[0m\u001b[0;34m)\u001b[0m\u001b[0;34m,\u001b[0m \u001b[0mgroups\u001b[0m\u001b[0;34m,\u001b[0m \u001b[0mtorch\u001b[0m\u001b[0;34m.\u001b[0m\u001b[0mbackends\u001b[0m\u001b[0;34m.\u001b[0m\u001b[0mcudnn\u001b[0m\u001b[0;34m.\u001b[0m\u001b[0mbenchmark\u001b[0m\u001b[0;34m,\u001b[0m\u001b[0;34m\u001b[0m\u001b[0m\n\u001b[1;32m     89\u001b[0m                 torch.backends.cudnn.deterministic, torch.backends.cudnn.enabled)\n\u001b[0;32m---> 90\u001b[0;31m     \u001b[0;32mreturn\u001b[0m \u001b[0mf\u001b[0m\u001b[0;34m(\u001b[0m\u001b[0minput\u001b[0m\u001b[0;34m,\u001b[0m \u001b[0mweight\u001b[0m\u001b[0;34m,\u001b[0m \u001b[0mbias\u001b[0m\u001b[0;34m)\u001b[0m\u001b[0;34m\u001b[0m\u001b[0m\n\u001b[0m\u001b[1;32m     91\u001b[0m \u001b[0;34m\u001b[0m\u001b[0m\n\u001b[1;32m     92\u001b[0m \u001b[0;34m\u001b[0m\u001b[0m\n",
      "\u001b[0;31mRuntimeError\u001b[0m: cuda runtime error (2) : out of memory at /pytorch/torch/lib/THC/generic/THCStorage.cu:58"
     ],
     "output_type": "error"
    }
   ],
   "source": [
    "# Run on the first image\n",
    "CONTENT_LAYERS = {'conv_4'}\n",
    "STYLE_LAYERS =  {'conv_1', 'conv_2', 'conv_3', 'conv_4', 'conv_5'}\n",
    "CONTENT_WEIGHT = 1\n",
    "STYLE_WEIGHT = 1000\n",
    "\n",
    "# Reset to put channels first\n",
    "transfer_model = StyleTransferModel(CONTENT_LAYERS, STYLE_LAYERS, CONTENT_WEIGHT, STYLE_WEIGHT)\n",
    "transfer_model.compile(content_images[0][np.newaxis], cnn)\n",
    "new_image = transfer_model.run_model(content_images[0][np.newaxis], style_images)\n",
    "\n",
    "plt.imshow(new_image)\n",
    "plt.show()"
   ]
  }
 ],
 "metadata": {
  "kernelspec": {
   "display_name": "Python 3",
   "language": "python",
   "name": "python3"
  },
  "language_info": {
   "codemirror_mode": {
    "name": "ipython",
    "version": 3
   },
   "file_extension": ".py",
   "mimetype": "text/x-python",
   "name": "python",
   "nbconvert_exporter": "python",
   "pygments_lexer": "ipython3",
   "version": "3.5.2"
  }
 },
 "nbformat": 4,
 "nbformat_minor": 2
}
